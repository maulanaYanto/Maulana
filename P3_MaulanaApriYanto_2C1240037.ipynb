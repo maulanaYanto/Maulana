{
  "nbformat": 4,
  "nbformat_minor": 0,
  "metadata": {
    "colab": {
      "provenance": [],
      "authorship_tag": "ABX9TyOdqtodqntfMJItr11JkeeH",
      "include_colab_link": true
    },
    "kernelspec": {
      "name": "python3",
      "display_name": "Python 3"
    },
    "language_info": {
      "name": "python"
    }
  },
  "cells": [
    {
      "cell_type": "markdown",
      "metadata": {
        "id": "view-in-github",
        "colab_type": "text"
      },
      "source": [
        "<a href=\"https://colab.research.google.com/github/maulanaYanto/Maulana/blob/main/P3_MaulanaApriYanto_2C1240037.ipynb\" target=\"_parent\"><img src=\"https://colab.research.google.com/assets/colab-badge.svg\" alt=\"Open In Colab\"/></a>"
      ]
    },
    {
      "cell_type": "code",
      "execution_count": 1,
      "metadata": {
        "colab": {
          "base_uri": "https://localhost:8080/"
        },
        "id": "_2YXfXhkrYGi",
        "outputId": "51b5453d-29af-4151-8c1b-e70494429b01"
      },
      "outputs": [
        {
          "output_type": "stream",
          "name": "stdout",
          "text": [
            "7\n"
          ]
        }
      ],
      "source": [
        "NumbInt = [9, 8, 7, 6, 5, 4, 3, 2, 1, 0]\n",
        "\n",
        "print(NumbInt[2])"
      ]
    },
    {
      "cell_type": "code",
      "source": [
        "X = [0 for i in range(10)]\n",
        "print(X)"
      ],
      "metadata": {
        "colab": {
          "base_uri": "https://localhost:8080/"
        },
        "id": "qhcU9ZNxt1pi",
        "outputId": "24296e40-b614-41b4-8208-ca0e7a3741dd"
      },
      "execution_count": 9,
      "outputs": [
        {
          "output_type": "stream",
          "name": "stdout",
          "text": [
            "[0, 0, 0, 0, 0, 0, 0, 0, 0, 0]\n"
          ]
        }
      ]
    },
    {
      "cell_type": "code",
      "source": [
        "Bintang = ['*' for i in range(10)]\n",
        "print(Bintang)"
      ],
      "metadata": {
        "colab": {
          "base_uri": "https://localhost:8080/"
        },
        "id": "TijvNxc_uf3a",
        "outputId": "4af85c02-68b8-4730-b9a5-fb879a38c9b9"
      },
      "execution_count": 77,
      "outputs": [
        {
          "output_type": "stream",
          "name": "stdout",
          "text": [
            "['*', '*', '*', '*', '*', '*', '*', '*', '*', '*']\n"
          ]
        }
      ]
    },
    {
      "cell_type": "code",
      "source": [
        "Y = [1, 2, 4, -1, 100, 2, 0, -1, 3, 9]\n",
        "print(Y[4])\n",
        "Z = Y[4] + Y[9]\n",
        "print(\"Z:\", Z)"
      ],
      "metadata": {
        "colab": {
          "base_uri": "https://localhost:8080/"
        },
        "id": "er2DJDQvvtZR",
        "outputId": "9e0a414f-632e-420f-87f3-09e94cddd17a"
      },
      "execution_count": 41,
      "outputs": [
        {
          "output_type": "stream",
          "name": "stdout",
          "text": [
            "100\n",
            "Z: 109\n"
          ]
        }
      ]
    },
    {
      "cell_type": "code",
      "source": [
        "Nomor = [0 for i in range(10)]\n",
        "for i in range(0,10): Nomor[i] = int(input())"
      ],
      "metadata": {
        "colab": {
          "base_uri": "https://localhost:8080/"
        },
        "id": "GkZkwgS3zM1e",
        "outputId": "1e9e310f-d2c9-4efd-f58b-a8e39cba5970"
      },
      "execution_count": 53,
      "outputs": [
        {
          "name": "stdout",
          "output_type": "stream",
          "text": [
            "1\n",
            "2\n",
            "3\n",
            "4\n",
            "5\n",
            "6\n",
            "7\n",
            "8\n",
            "9\n",
            "0\n"
          ]
        }
      ]
    },
    {
      "cell_type": "code",
      "source": [
        "Barang = ['*' for i in range(5)]\n",
        "for i in range(0,5):\n",
        "  print(Barang[i])"
      ],
      "metadata": {
        "colab": {
          "base_uri": "https://localhost:8080/"
        },
        "id": "ldeUIi4rz2o4",
        "outputId": "4a5aecfe-f171-472d-8a2d-91d0468f7ade"
      },
      "execution_count": 72,
      "outputs": [
        {
          "output_type": "stream",
          "name": "stdout",
          "text": [
            "*\n",
            "*\n",
            "*\n",
            "*\n",
            "*\n"
          ]
        }
      ]
    },
    {
      "cell_type": "code",
      "source": [
        "Perusahaan = [0 for i in range(10)]\n",
        "for i in range (0,10):\n",
        "  Perusahaan[i] = int(input())\n",
        "sum = 0\n",
        "for i in range(0,10):\n",
        "    sum = sum + NumbInt[i]\n",
        "rata = sum/10\n",
        "print (\"Nilai rata-rata = \" + str(rata))"
      ],
      "metadata": {
        "colab": {
          "base_uri": "https://localhost:8080/"
        },
        "id": "inXh48sx0thi",
        "outputId": "93c84d50-e790-4ea5-a9b7-c6e322a262dd"
      },
      "execution_count": 84,
      "outputs": [
        {
          "output_type": "stream",
          "name": "stdout",
          "text": [
            "1\n",
            "2\n",
            "3\n",
            "4\n",
            "5\n",
            "5\n",
            "5\n",
            "5\n",
            "5\n",
            "4\n",
            "Nilai rata-rata = 3.9\n"
          ]
        }
      ]
    },
    {
      "cell_type": "code",
      "source": [
        "MatMa=[[1,3,5,7,9],\n",
        "       [2,4,6,8,0],\n",
        "       [1,4,7,0,1],\n",
        "       [2,5,8,1,9],\n",
        "       [1,2,3,4,5]]\n",
        "for j in range(len(MatMa)):\n",
        "  for i in range(len(MatMa)):\n",
        "    print(MatMa[j][i], end=\" \")\n",
        "  print( )"
      ],
      "metadata": {
        "colab": {
          "base_uri": "https://localhost:8080/"
        },
        "id": "I3aXezJO8As3",
        "outputId": "c9284264-b503-407d-d804-38dc01164c1e"
      },
      "execution_count": 112,
      "outputs": [
        {
          "output_type": "stream",
          "name": "stdout",
          "text": [
            "1 3 5 7 9 \n",
            "2 4 6 8 0 \n",
            "1 4 7 0 1 \n",
            "2 5 8 1 9 \n",
            "1 2 3 4 5 \n"
          ]
        }
      ]
    },
    {
      "cell_type": "code",
      "source": [
        "print(MatMa[2][4])"
      ],
      "metadata": {
        "colab": {
          "base_uri": "https://localhost:8080/"
        },
        "id": "vrTmovAI_JI9",
        "outputId": "1571d8de-4df7-4cc9-baf8-f3ea01d6abd1"
      },
      "execution_count": 113,
      "outputs": [
        {
          "output_type": "stream",
          "name": "stdout",
          "text": [
            "1\n"
          ]
        }
      ]
    },
    {
      "source": [
        "R = MatMa[3][4] * MatMa[4][3]\n",
        "print(R)"
      ],
      "cell_type": "code",
      "metadata": {
        "colab": {
          "base_uri": "https://localhost:8080/"
        },
        "id": "JbBRLDiM_jYl",
        "outputId": "4b68c3ff-e3de-4be8-9aea-664ab5230ace"
      },
      "execution_count": 117,
      "outputs": [
        {
          "output_type": "stream",
          "name": "stdout",
          "text": [
            "36\n"
          ]
        }
      ]
    },
    {
      "cell_type": "code",
      "source": [
        "MatLan=[[1,2,3,4,5,6,7,8],\n",
        "        [2,3,4,5,6,7,8,9],\n",
        "        [3,4,5,6,7,8,9,0]]\n",
        "print(MatLan)"
      ],
      "metadata": {
        "colab": {
          "base_uri": "https://localhost:8080/"
        },
        "id": "9_gHWtRm9xMG",
        "outputId": "fabb5ec3-0d23-419b-e3fe-75d9bd29d52c"
      },
      "execution_count": 104,
      "outputs": [
        {
          "output_type": "stream",
          "name": "stdout",
          "text": [
            "[[1, 2, 3, 4, 5, 6, 7, 8], [2, 3, 4, 5, 6, 7, 8, 9], [3, 4, 5, 6, 7, 8, 9, 0]]\n"
          ]
        }
      ]
    },
    {
      "cell_type": "code",
      "source": [
        "MatValue = [[0 for j in range(2)] for i in range(3)]\n",
        "print(MatValue)"
      ],
      "metadata": {
        "colab": {
          "base_uri": "https://localhost:8080/"
        },
        "id": "8vdb4Qib-Ktd",
        "outputId": "434ee170-3372-4b4d-8cde-1845a297ffd5"
      },
      "execution_count": 106,
      "outputs": [
        {
          "output_type": "stream",
          "name": "stdout",
          "text": [
            "[[0, 0], [0, 0], [0, 0]]\n"
          ]
        }
      ]
    },
    {
      "cell_type": "code",
      "source": [],
      "metadata": {
        "id": "cls9-KwC-icl"
      },
      "execution_count": null,
      "outputs": []
    }
  ]
}