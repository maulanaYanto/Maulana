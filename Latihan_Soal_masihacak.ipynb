{
  "nbformat": 4,
  "nbformat_minor": 0,
  "metadata": {
    "colab": {
      "provenance": [],
      "authorship_tag": "ABX9TyMevqjb1Ky0yHyH0GcqCC2Q",
      "include_colab_link": true
    },
    "kernelspec": {
      "name": "python3",
      "display_name": "Python 3"
    },
    "language_info": {
      "name": "python"
    }
  },
  "cells": [
    {
      "cell_type": "markdown",
      "metadata": {
        "id": "view-in-github",
        "colab_type": "text"
      },
      "source": [
        "<a href=\"https://colab.research.google.com/github/maulanaYanto/Maulana/blob/main/Latihan_Soal_masihacak.ipynb\" target=\"_parent\"><img src=\"https://colab.research.google.com/assets/colab-badge.svg\" alt=\"Open In Colab\"/></a>"
      ]
    },
    {
      "cell_type": "code",
      "execution_count": 33,
      "metadata": {
        "colab": {
          "base_uri": "https://localhost:8080/"
        },
        "id": "ZiyMyuI-Jj5Q",
        "outputId": "3fff5e07-3aa0-46dd-f5d6-dd10e89cd080"
      },
      "outputs": [
        {
          "output_type": "stream",
          "name": "stdout",
          "text": [
            "masukkan nama anda: maul\n",
            "Halo, maul Selamat Belajar Python!\n"
          ]
        }
      ],
      "source": [
        "nama = input(\"masukkan nama anda: \")\n",
        "print (\"Halo,\", nama, \"Selamat Belajar Python!\")"
      ]
    },
    {
      "source": [
        "panjang = input(\"masukkan panjang: \")\n",
        "Lebar = input(\"masukkan Lebar: \")\n",
        "Luas = int(panjang) * int(Lebar)\n",
        "print(\"Luas: \", Luas)"
      ],
      "cell_type": "code",
      "metadata": {
        "colab": {
          "base_uri": "https://localhost:8080/"
        },
        "id": "Cdh747AVO6fH",
        "outputId": "6160a086-5619-4d42-f3a0-e307b45603a1"
      },
      "execution_count": 37,
      "outputs": [
        {
          "output_type": "stream",
          "name": "stdout",
          "text": [
            "masukkan panjang: 5\n",
            "masukkan Lebar: 3\n",
            "Luas:  15\n"
          ]
        }
      ]
    },
    {
      "cell_type": "code",
      "source": [
        "angka =int(input(\"masukkan angka:\"))\n",
        "if angka % 2 == 0:\n",
        "    print(angka, \"adalah bilangan genap\")\n",
        "else:\n",
        "    print(angka, \"adalah bilangan ganjil\")"
      ],
      "metadata": {
        "colab": {
          "base_uri": "https://localhost:8080/"
        },
        "id": "sDXdXEfqOXfm",
        "outputId": "e1b3fe0e-49b0-4b4e-8ab4-8885214d3101"
      },
      "execution_count": 44,
      "outputs": [
        {
          "output_type": "stream",
          "name": "stdout",
          "text": [
            "masukkan angka:7\n",
            "7 adalah bilangan ganjil\n"
          ]
        }
      ]
    },
    {
      "cell_type": "code",
      "source": [
        "print(\"deretan bilangan 1 sampai 20\")\n",
        "for i in range(1, 21):\n",
        "      print(i, end= \" \")"
      ],
      "metadata": {
        "colab": {
          "base_uri": "https://localhost:8080/"
        },
        "id": "o7P_wCTRRagd",
        "outputId": "80d826d7-d52c-4227-baac-2667bcb86b05"
      },
      "execution_count": 51,
      "outputs": [
        {
          "output_type": "stream",
          "name": "stdout",
          "text": [
            "deretan bilangan 1 sampai 20\n",
            "1 2 3 4 5 6 7 8 9 10 11 12 13 14 15 16 17 18 19 20 "
          ]
        }
      ]
    },
    {
      "source": [
        "a = int(input(\"masukkan bilangan pertama: \"))\n",
        "b = int(input(\"masukkan bilangan kedua: \"))\n",
        "jumlah = 0\n",
        "for i in range(a, b + 1):\n",
        "    jumlah = jumlah + i\n",
        "print(f\"jumlah: {jumlah}\")\n",
        "for i in range(a, b + 1):\n",
        "    print(i, end=\" \")"
      ],
      "cell_type": "code",
      "metadata": {
        "colab": {
          "base_uri": "https://localhost:8080/"
        },
        "id": "44dTRzsbYzfU",
        "outputId": "e78c8ad6-a166-44eb-d8ed-9176bd1e10e4"
      },
      "execution_count": 18,
      "outputs": [
        {
          "output_type": "stream",
          "name": "stdout",
          "text": [
            "masukkan bilangan pertama: 3\n",
            "masukkan bilangan kedua: 7\n",
            "jumlah: 25\n",
            "3 4 5 6 7 "
          ]
        }
      ]
    },
    {
      "cell_type": "code",
      "source": [
        "a = int(input(\"masukkan bilangan pertama: \"))\n",
        "b = int(input(\"masukkan bilangan kedua: \"))\n",
        "print(\"bilangan genap dari rentang\", a, \"sampai\", b ,\"adalah:\")\n",
        "for i in range(a, b + 1):\n",
        "  if i % 2 == 0:\n",
        "    print(i)"
      ],
      "metadata": {
        "colab": {
          "base_uri": "https://localhost:8080/"
        },
        "id": "xIA5kL-MZvWt",
        "outputId": "a500f716-8a04-4034-9700-8f2dcd6dfa92"
      },
      "execution_count": 34,
      "outputs": [
        {
          "output_type": "stream",
          "name": "stdout",
          "text": [
            "masukkan bilangan pertama: 3\n",
            "masukkan bilangan kedua: 10\n",
            "bilangan genap dari rentang 3 sampai 10 adalah:\n",
            "4\n",
            "6\n",
            "8\n",
            "10\n"
          ]
        }
      ]
    },
    {
      "source": [
        "A = [5, 2, 8, 1]\n",
        "array_terbalik = A[::-1]\n",
        "print(f\"array_terbalik: {array_terbalik}\")"
      ],
      "cell_type": "code",
      "metadata": {
        "colab": {
          "base_uri": "https://localhost:8080/"
        },
        "id": "1tMQwFCSfTFU",
        "outputId": "d71bdd44-231e-4b6d-df9b-f46659734cf2"
      },
      "execution_count": 38,
      "outputs": [
        {
          "output_type": "stream",
          "name": "stdout",
          "text": [
            "array_terbalik: [1, 8, 2, 5]\n"
          ]
        }
      ]
    },
    {
      "cell_type": "code",
      "source": [
        "A = [5, 2, 8, 1]\n",
        "array_terbalik = [0] * len(A)\n",
        "for i in range(len(A)):\n",
        "    array_terbalik[i] = A[len(A) - 1 - i]\n",
        "print(f\"array_terbalik: {array_terbalik}\")"
      ],
      "metadata": {
        "colab": {
          "base_uri": "https://localhost:8080/"
        },
        "id": "W2boUPqchVPU",
        "outputId": "a74a792a-fb13-472f-9b93-c1b1a898fc02"
      },
      "execution_count": 39,
      "outputs": [
        {
          "output_type": "stream",
          "name": "stdout",
          "text": [
            "array_terbalik: [1, 8, 2, 5]\n"
          ]
        }
      ]
    },
    {
      "cell_type": "code",
      "source": [
        "bilangan = int(input(\"masukkan sebuah bilangan bulat: \"))\n",
        "prima = True\n",
        "if bilangan < 2:\n",
        "    prima = False\n",
        "else:\n",
        "    for i in range(2, int(bilangan ** 0.5) + 1):\n",
        "        if (bilangan % i) == 0:\n",
        "            prima = False\n",
        "            break\n",
        "if prima:\n",
        "    print(bilangan, \"adalah bilangan prima\")\n",
        "else:\n",
        "    print(bilangan, \"bukan bilangan prima\")"
      ],
      "metadata": {
        "colab": {
          "base_uri": "https://localhost:8080/"
        },
        "id": "vaAnsvaVj9WD",
        "outputId": "a860756f-8084-4a4a-a366-a52a5a123672"
      },
      "execution_count": 4,
      "outputs": [
        {
          "output_type": "stream",
          "name": "stdout",
          "text": [
            "masukkan sebuah bilangan bulat: 13\n",
            "13 adalah bilangan prima\n"
          ]
        }
      ]
    }
  ]
}