{
  "nbformat": 4,
  "nbformat_minor": 0,
  "metadata": {
    "colab": {
      "provenance": [],
      "authorship_tag": "ABX9TyPFYFG+QaF/GBWF1qacyCYO",
      "include_colab_link": true
    },
    "kernelspec": {
      "name": "python3",
      "display_name": "Python 3"
    },
    "language_info": {
      "name": "python"
    }
  },
  "cells": [
    {
      "cell_type": "markdown",
      "metadata": {
        "id": "view-in-github",
        "colab_type": "text"
      },
      "source": [
        "<a href=\"https://colab.research.google.com/github/maulanaYanto/Maulana/blob/main/LatihanArray.ipynb\" target=\"_parent\"><img src=\"https://colab.research.google.com/assets/colab-badge.svg\" alt=\"Open In Colab\"/></a>"
      ]
    },
    {
      "cell_type": "code",
      "source": [
        "# Latihan 1\n",
        "S = [1, 3, 5, 7, 9]\n",
        "D = int(input(\"Masukkan nilai D: \"))\n",
        "\n",
        "for i in range(len(S)):\n",
        "    S[i] *= D\n",
        "\n",
        "print(\"Elemen S yang baru:\", S)"
      ],
      "metadata": {
        "colab": {
          "base_uri": "https://localhost:8080/"
        },
        "id": "ZU0V0brNNEYf",
        "outputId": "3fc552a0-220c-4cd0-b68e-657f96d8d3ca"
      },
      "execution_count": 5,
      "outputs": [
        {
          "output_type": "stream",
          "name": "stdout",
          "text": [
            "Masukkan nilai D: 7\n",
            "Elemen S yang baru: [7, 21, 35, 49, 63]\n"
          ]
        }
      ]
    },
    {
      "cell_type": "code",
      "source": [
        "# Latihan 2\n",
        "# Contoh penggunaan\n",
        "N = 10\n",
        "T = [9, 12, 30, -1, 0, 4, -1, 3, 60, 14]\n",
        "\n",
        "terbesar = T[0]\n",
        "for i in range(1, len(T)):\n",
        "    if T[i] > terbesar:\n",
        "        terbesar = T[i]\n",
        "\n",
        "print(\"Nilai terbesar:\", terbesar)  # Output: 30\n",
        "\n",
        "# Contoh penggunaan lainnya\n",
        "N = 8\n",
        "T = [1, 3, 5, 8, -12, 90, 3, 5]\n",
        "\n",
        "terbesar = T[0]\n",
        "for i in range(1, len(T)):\n",
        "    if T[i] > terbesar:\n",
        "        terbesar = T[i]\n",
        "\n",
        "print(\"Nilai terbesar:\", terbesar)  # Output: 90"
      ],
      "metadata": {
        "colab": {
          "base_uri": "https://localhost:8080/"
        },
        "id": "ggd5lLzxTZJQ",
        "outputId": "c0162ce2-4090-4465-99ab-04a23ffbb1af"
      },
      "execution_count": 23,
      "outputs": [
        {
          "output_type": "stream",
          "name": "stdout",
          "text": [
            "Nilai terbesar: 60\n",
            "Nilai terbesar: 90\n"
          ]
        }
      ]
    }
  ]
}