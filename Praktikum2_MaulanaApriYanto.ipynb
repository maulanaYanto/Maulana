{
  "nbformat": 4,
  "nbformat_minor": 0,
  "metadata": {
    "colab": {
      "provenance": [],
      "authorship_tag": "ABX9TyO9tuPnCQhl6AQ8Ni1Hjss9",
      "include_colab_link": true
    },
    "kernelspec": {
      "name": "python3",
      "display_name": "Python 3"
    },
    "language_info": {
      "name": "python"
    }
  },
  "cells": [
    {
      "cell_type": "markdown",
      "metadata": {
        "id": "view-in-github",
        "colab_type": "text"
      },
      "source": [
        "<a href=\"https://colab.research.google.com/github/maulanaYanto/Maulana/blob/main/Praktikum2_MaulanaApriYanto.ipynb\" target=\"_parent\"><img src=\"https://colab.research.google.com/assets/colab-badge.svg\" alt=\"Open In Colab\"/></a>"
      ]
    },
    {
      "cell_type": "code",
      "execution_count": 11,
      "metadata": {
        "colab": {
          "base_uri": "https://localhost:8080/"
        },
        "collapsed": true,
        "id": "i9QLnXsGsXBE",
        "outputId": "8b5c264f-9ec0-4dec-d043-228c9b970ca7"
      },
      "outputs": [
        {
          "output_type": "stream",
          "name": "stdout",
          "text": [
            "Masukkan nama anda: karawita\n",
            "masukkan jenis kelamin anda(pria/wanita): pria\n",
            "Halo Bro karawita\n"
          ]
        }
      ],
      "source": [
        "nama = input(\"Masukkan nama anda: \")\n",
        "kelamin = input(\"masukkan jenis kelamin anda(pria/wanita): \")\n",
        "if kelamin == \"pria\":\n",
        "  print(\"Halo Bro\", nama)\n",
        "elif kelamin == \"wanita\":\n",
        "  print(\"Halo Sis\", nama)"
      ]
    },
    {
      "cell_type": "code",
      "source": [
        "bilangan = input(\"Masukkan sebuah bilangan: \")\n",
        "bilangan = int(bilangan)\n",
        "if bilangan % 3 == 0:\n",
        "  print(\"Bilangan habis dibagi 3\")\n",
        "else:\n",
        "  print(\"Bilangan tidak habis dibagi 3\")"
      ],
      "metadata": {
        "colab": {
          "base_uri": "https://localhost:8080/"
        },
        "id": "Ul5o5wBDuHCl",
        "outputId": "17de3680-0be3-41d2-9b63-fe945470e7e3"
      },
      "execution_count": 5,
      "outputs": [
        {
          "output_type": "stream",
          "name": "stdout",
          "text": [
            "Masukkan sebuah bilangan: 9\n",
            "Bilangan habis dibagi 3\n"
          ]
        }
      ]
    },
    {
      "cell_type": "code",
      "source": [
        "jumlah_barang = input(\"masukkan jumlah barang: \")\n",
        "total_belanja = 0\n",
        "\n",
        "for i in range(int(jumlah_barang)):\n",
        "  harga = float(input(\"masukkan harga barang ke-: \"))\n",
        "  jumlah = int(input(\"masukkan jumlah barang ke-: \"))\n",
        "  total_harga = harga * jumlah\n",
        "  total_belanja += total_harga\n",
        "\n",
        "print(\"total belanja anda adalah:\", total_belanja)"
      ],
      "metadata": {
        "colab": {
          "base_uri": "https://localhost:8080/"
        },
        "id": "AlIfOroL2A5o",
        "outputId": "9490a8a6-c59d-4ad4-b2e0-90aa380a885e"
      },
      "execution_count": 32,
      "outputs": [
        {
          "output_type": "stream",
          "name": "stdout",
          "text": [
            "masukkan jumlah barang: 1\n",
            "masukkan harga barang ke-: 2000\n",
            "masukkan jumlah barang ke-: 2\n",
            "total belanja anda adalah: 4000\n"
          ]
        }
      ]
    },
    {
      "cell_type": "code",
      "source": [
        "#contoh 1\n",
        "#Kondisi if adalah kondisi yang akan dieksekusi oleh program jika bernilai benar atau TRUE\n",
        "nilai = 9\n",
        "#jika kondisi benar/TRUE maka program akan mengeksekusi perintah dibawahnya\n",
        "if(nilai > 7):\n",
        "  print(\"Sembilan Lebih Besar Dari Angka Tujuh\") # Kondisi Benar, Dieksekusi\n",
        "#jika kondisi salah/FALSE maka program tidak akan mengeksekusi perintah dibawahnya\n",
        "if(nilai > 10):\n",
        "  print(\"Sembilan Lebih Besar Dari Angka Sepuluh\") # Kondisi Salah, Makatidak tereksekusi"
      ],
      "metadata": {
        "id": "zjxroXf253u4"
      },
      "execution_count": 44,
      "outputs": []
    },
    {
      "cell_type": "code",
      "source": [
        "#contoh 2\n",
        "grade = float(input(\"Masukkan Nilai Anda: \"))\n",
        "if grade == 100:\n",
        "  print(\"perfect\")\n",
        "\n",
        "if grade == 90:\n",
        "  print(\"ok\")\n",
        "  print(\"keep working hard!\")"
      ],
      "metadata": {
        "colab": {
          "base_uri": "https://localhost:8080/"
        },
        "id": "gm4hVm3P6FRR",
        "outputId": "a486cd51-184d-4278-e4ab-9b5bfd89b171"
      },
      "execution_count": 47,
      "outputs": [
        {
          "output_type": "stream",
          "name": "stdout",
          "text": [
            "Masukkan Nilai Anda: 90\n",
            "ok\n",
            "keep working hard!\n"
          ]
        }
      ]
    },
    {
      "cell_type": "code",
      "source": [
        "#contoh 3\n",
        "grade = float(input(\"Masukkan Nilai Anda: \"))\n",
        "if grade == 100:\n",
        "  print(\"perfect\")\n",
        "if grade == 90:\n",
        "  print(\"ok\")\n",
        "  print(\"keep working hard!\")"
      ],
      "metadata": {
        "colab": {
          "base_uri": "https://localhost:8080/"
        },
        "id": "nQG2FzOT60-6",
        "outputId": "95811506-6c77-4fde-d966-7f39aa072eec"
      },
      "execution_count": 50,
      "outputs": [
        {
          "output_type": "stream",
          "name": "stdout",
          "text": [
            "Masukkan Nilai Anda: 100\n",
            "perfect\n"
          ]
        }
      ]
    },
    {
      "cell_type": "code",
      "source": [
        "#contoh 4\n",
        "# Kondisi if else adalah jika kondisi bernilai TRUE maka akan dieksekusi pada if,\n",
        "# tetapi jika bernilai FALSE maka akan dieksekusi kode pada else\n",
        "nilai = 9\n",
        "# Jika pernyataan pada if bernilai TRUE maka if akan dieksekusi,\n",
        "# tetapi jika FALSE kode pada else yang akan dieksekusi.\n",
        "if(nilai > 7):\n",
        "  print(\"Selamat Anda Lulus\")\n",
        "else:\n",
        "  print(\"Maaf Anda Tidak Lulus\")\n"
      ],
      "metadata": {
        "colab": {
          "base_uri": "https://localhost:8080/"
        },
        "id": "dIvpSetZ7V3i",
        "outputId": "51f4b809-c0ae-4135-8f2f-532242970732"
      },
      "execution_count": 54,
      "outputs": [
        {
          "output_type": "stream",
          "name": "stdout",
          "text": [
            "Selamat Anda Lulus\n"
          ]
        }
      ]
    },
    {
      "cell_type": "code",
      "source": [
        "#contoh 5\n",
        "str_input = input('Enter your grade: ')\n",
        "grade = int(str_input)\n",
        "if grade == 100:\n",
        "  print(\"perfect\")\n",
        "else:\n",
        "  print(\"keep it up\")\n"
      ],
      "metadata": {
        "colab": {
          "base_uri": "https://localhost:8080/"
        },
        "id": "B0X50lpy7mCT",
        "outputId": "9fcbde06-3457-4f2d-a456-5772649315af"
      },
      "execution_count": 55,
      "outputs": [
        {
          "output_type": "stream",
          "name": "stdout",
          "text": [
            "Enter your grade: 70\n",
            "keep it up\n"
          ]
        }
      ]
    },
    {
      "cell_type": "code",
      "source": [
        "#contoh 6\n",
        "Lapar = input(\"Apakah zaki lapar? \")\n",
        "if(\"lapar == ya\"):\n",
        "  print(\"Zaki makan\")\n",
        "else:\n",
        "  print(\"Zaki tidak makan\")"
      ],
      "metadata": {
        "colab": {
          "base_uri": "https://localhost:8080/"
        },
        "id": "LGJVuCAR701Z",
        "outputId": "ba8a2449-9420-4eb6-d31c-38479cee97a6"
      },
      "execution_count": 63,
      "outputs": [
        {
          "output_type": "stream",
          "name": "stdout",
          "text": [
            "Apakah zaki lapar? tidak\n",
            "Zaki makan\n"
          ]
        }
      ]
    }
  ]
}