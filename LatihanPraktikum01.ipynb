{
  "nbformat": 4,
  "nbformat_minor": 0,
  "metadata": {
    "colab": {
      "provenance": [],
      "authorship_tag": "ABX9TyMGU5Bj1vwMhLSevT9SjJdH",
      "include_colab_link": true
    },
    "kernelspec": {
      "name": "python3",
      "display_name": "Python 3"
    },
    "language_info": {
      "name": "python"
    }
  },
  "cells": [
    {
      "cell_type": "markdown",
      "metadata": {
        "id": "view-in-github",
        "colab_type": "text"
      },
      "source": [
        "<a href=\"https://colab.research.google.com/github/maulanaYanto/Maulana/blob/main/LatihanPraktikum01.ipynb\" target=\"_parent\"><img src=\"https://colab.research.google.com/assets/colab-badge.svg\" alt=\"Open In Colab\"/></a>"
      ]
    },
    {
      "cell_type": "code",
      "execution_count": 1,
      "metadata": {
        "colab": {
          "base_uri": "https://localhost:8080/"
        },
        "id": "W_a6FJCDosLa",
        "outputId": "76ebb7b1-7886-4065-e23a-d74f90e92ed2"
      },
      "outputs": [
        {
          "output_type": "stream",
          "name": "stdout",
          "text": [
            "Masukkan sebuah bilangan: 9\n",
            "Bilangan habis dibagi 3\n"
          ]
        }
      ],
      "source": [
        "bilangan = int(input(\"Masukkan sebuah bilangan: \"))\n",
        "\n",
        "if bilangan % 3 == 0:\n",
        "  print(\"Bilangan habis dibagi 3\")\n",
        "else:\n",
        "  print(\"Bilangan tidak habis dibagi 3\")"
      ]
    },
    {
      "cell_type": "code",
      "source": [
        "nama = input(\"Masukkan nama anda: \")\n",
        "jenis_kelamin = input(\"masukkan jenis kelamin (pria/wanita): \")\n",
        "\n",
        "if jenis_kelamin == \"pria\":\n",
        "  print(f\"Halo bro, {nama}!\")\n",
        "elif jenis_kelamin == \"wanita\":\n",
        "  print(f\"Halo sis, {nama}!\")\n",
        "else:\n",
        "  print(\"jeins kelamin tidak valid. Harap masukkan 'pria' atau 'wanita'\")\n"
      ],
      "metadata": {
        "colab": {
          "base_uri": "https://localhost:8080/"
        },
        "id": "OsaJHRKkpE5j",
        "outputId": "acc05e11-4a4d-48b4-8c67-201e6b2a8c92"
      },
      "execution_count": 2,
      "outputs": [
        {
          "output_type": "stream",
          "name": "stdout",
          "text": [
            "Masukkan nama anda: maul\n",
            "masukkan jenis kelamin (pria/wanita): pria\n",
            "Halo bro, maul!\n"
          ]
        }
      ]
    },
    {
      "cell_type": "code",
      "source": [
        "nama = input(\"Masukkan nama anda: \")\n",
        "jenis_kelamin = input(\"masukkan jenis kelamin (pria/wanita): \")\n",
        "\n",
        "if jenis_kelamin == \"pria\":\n",
        "  print(f\"Halo bro, {nama}!\")\n",
        "elif jenis_kelamin == \"wanita\":\n",
        "  print(f\"Halo sis, {nama}!\")\n",
        "else:\n",
        "  print(\"jeins kelamin tidak valid. Harap masukkan 'pria' atau 'wanita'\")"
      ],
      "metadata": {
        "colab": {
          "base_uri": "https://localhost:8080/"
        },
        "id": "a_MLK6t5pN8S",
        "outputId": "cbc859ef-6b01-4efd-b4f8-ec9d84cdb85c"
      },
      "execution_count": 3,
      "outputs": [
        {
          "output_type": "stream",
          "name": "stdout",
          "text": [
            "Masukkan nama anda: apri\n",
            "masukkan jenis kelamin (pria/wanita): wanita\n",
            "Halo sis, apri!\n"
          ]
        }
      ]
    },
    {
      "cell_type": "code",
      "source": [
        "nilai = int(input(\"Masukkan nilai anda (0-100): \"))\n",
        "\n",
        "if nilai >= 80:\n",
        "  print(\"Anda mendapat nilai A\")\n",
        "elif nilai >= 70:\n",
        "  print(\"Anda mendapat nilai B\")\n",
        "elif nilai >= 60:\n",
        "  print(\"Anda mendapat nilai C\")\n",
        "else:\n",
        "  print(\"Anda mendapat nilai D\")"
      ],
      "metadata": {
        "colab": {
          "base_uri": "https://localhost:8080/"
        },
        "id": "bJ7R2xSFpS7S",
        "outputId": "b50069a8-e358-4880-8f7b-0c75043f6c9c"
      },
      "execution_count": 4,
      "outputs": [
        {
          "output_type": "stream",
          "name": "stdout",
          "text": [
            "Masukkan nilai anda (0-100): 67\n",
            "Anda mendapat nilai C\n"
          ]
        }
      ]
    }
  ]
}