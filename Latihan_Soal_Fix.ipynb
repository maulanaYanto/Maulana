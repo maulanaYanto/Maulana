{
  "nbformat": 4,
  "nbformat_minor": 0,
  "metadata": {
    "colab": {
      "provenance": [],
      "authorship_tag": "ABX9TyPmwKWvjkXmEK+YCVD4wEev",
      "include_colab_link": true
    },
    "kernelspec": {
      "name": "python3",
      "display_name": "Python 3"
    },
    "language_info": {
      "name": "python"
    }
  },
  "cells": [
    {
      "cell_type": "markdown",
      "metadata": {
        "id": "view-in-github",
        "colab_type": "text"
      },
      "source": [
        "<a href=\"https://colab.research.google.com/github/maulanaYanto/Maulana/blob/main/Latihan_Soal_Fix.ipynb\" target=\"_parent\"><img src=\"https://colab.research.google.com/assets/colab-badge.svg\" alt=\"Open In Colab\"/></a>"
      ]
    },
    {
      "cell_type": "code",
      "execution_count": 1,
      "metadata": {
        "colab": {
          "base_uri": "https://localhost:8080/"
        },
        "id": "PiWKBtPkQBcQ",
        "outputId": "5d358be1-53ee-4219-dd43-6fe2e2d7f00d"
      },
      "outputs": [
        {
          "output_type": "stream",
          "name": "stdout",
          "text": [
            "masukkan nama anda: maul\n",
            "Halo, maul Selamat Belajar Python!\n"
          ]
        }
      ],
      "source": [
        "nama = input(\"masukkan nama anda: \")\n",
        "print (\"Halo,\", nama, \"Selamat Belajar Python!\")"
      ]
    },
    {
      "cell_type": "code",
      "source": [
        "panjang = input(\"masukkan panjang: \")\n",
        "Lebar = input(\"masukkan Lebar: \")\n",
        "Luas = int(panjang) * int(Lebar)\n",
        "print(\"Luas: \", Luas)"
      ],
      "metadata": {
        "colab": {
          "base_uri": "https://localhost:8080/"
        },
        "id": "pRvcUjcaQpCd",
        "outputId": "68ec02bf-78e2-41ee-e1e3-a7f7af98ba75"
      },
      "execution_count": 2,
      "outputs": [
        {
          "output_type": "stream",
          "name": "stdout",
          "text": [
            "masukkan panjang: 5\n",
            "masukkan Lebar: 3\n",
            "Luas:  15\n"
          ]
        }
      ]
    },
    {
      "cell_type": "code",
      "source": [
        "angka =int(input(\"masukkan angka:\"))\n",
        "if angka % 2 == 0:\n",
        "    print(angka, \"adalah bilangan genap\")\n",
        "else:\n",
        "    print(angka, \"adalah bilangan ganjil\")"
      ],
      "metadata": {
        "colab": {
          "base_uri": "https://localhost:8080/"
        },
        "id": "qFvlfnGSRTem",
        "outputId": "27cb9778-bf6f-4745-dd01-897106d99520"
      },
      "execution_count": 3,
      "outputs": [
        {
          "output_type": "stream",
          "name": "stdout",
          "text": [
            "masukkan angka:7\n",
            "7 adalah bilangan ganjil\n"
          ]
        }
      ]
    },
    {
      "cell_type": "code",
      "source": [
        "print(\"deretan bilangan 1 sampai 20\")\n",
        "for i in range(1, 21):\n",
        "      print(i, end= \" \")"
      ],
      "metadata": {
        "colab": {
          "base_uri": "https://localhost:8080/"
        },
        "id": "I-jYdJixSind",
        "outputId": "c32fc4c6-b1d9-43f5-cf98-83b68e513ef5"
      },
      "execution_count": 4,
      "outputs": [
        {
          "output_type": "stream",
          "name": "stdout",
          "text": [
            "deretan bilangan 1 sampai 20\n",
            "1 2 3 4 5 6 7 8 9 10 11 12 13 14 15 16 17 18 19 20 "
          ]
        }
      ]
    },
    {
      "cell_type": "code",
      "source": [
        "a = int(input(\"masukkan bilangan pertama: \"))\n",
        "b = int(input(\"masukkan bilangan kedua: \"))\n",
        "jumlah = 0\n",
        "\n",
        "for i in range(a, b + 1):\n",
        "    jumlah = jumlah + i\n",
        "\n",
        "print(f\"jumlah: {jumlah}\")\n",
        "\n",
        "for i in range(a, b + 1):\n",
        "    print(i, end=\" \")"
      ],
      "metadata": {
        "colab": {
          "base_uri": "https://localhost:8080/"
        },
        "id": "V69mc1nfZg9K",
        "outputId": "bcc2367a-fda9-4f7f-b45d-9212b9b6aa8c"
      },
      "execution_count": 5,
      "outputs": [
        {
          "output_type": "stream",
          "name": "stdout",
          "text": [
            "masukkan bilangan pertama: 3\n",
            "masukkan bilangan kedua: 7\n",
            "jumlah: 25\n",
            "3 4 5 6 7 "
          ]
        }
      ]
    },
    {
      "cell_type": "code",
      "source": [
        "a = int(input(\"masukkan bilangan pertama: \"))\n",
        "b = int(input(\"masukkan bilangan kedua: \"))\n",
        "print(f\"bilangan genap dari rentang {a} sampai {b} adalah:\")\n",
        "for i in range(a, b + 1):\n",
        "  if i % 2 == 0:\n",
        "    print(i)"
      ],
      "metadata": {
        "colab": {
          "base_uri": "https://localhost:8080/"
        },
        "id": "u7E2FbUmbQgs",
        "outputId": "c2017191-4e3c-471a-ac04-366bdd3a8d0e"
      },
      "execution_count": 8,
      "outputs": [
        {
          "output_type": "stream",
          "name": "stdout",
          "text": [
            "masukkan bilangan pertama: 3\n",
            "masukkan bilangan kedua: 10\n",
            "bilangan genap dari rentang 3 sampai 10 adalah:\n",
            "4\n",
            "6\n",
            "8\n",
            "10\n"
          ]
        }
      ]
    },
    {
      "cell_type": "code",
      "source": [
        "A = [5, 2, 8, 1]\n",
        "array_terbalik = [0] * len(A)\n",
        "for i in range(len(A)):\n",
        "    array_terbalik[i] = A[len(A) - 1 - i]\n",
        "print(f\"array_terbalik: {array_terbalik}\")"
      ],
      "metadata": {
        "colab": {
          "base_uri": "https://localhost:8080/"
        },
        "id": "m-X678FalMUT",
        "outputId": "99e4e34f-ace5-4ac9-f51e-021388079546"
      },
      "execution_count": 1,
      "outputs": [
        {
          "output_type": "stream",
          "name": "stdout",
          "text": [
            "array_terbalik: [1, 8, 2, 5]\n"
          ]
        }
      ]
    },
    {
      "cell_type": "code",
      "source": [
        "bilangan = int(input(\"masukkan sebuah bilangan bulat: \"))\n",
        "prima = True\n",
        "if bilangan < 2:\n",
        "    prima = False\n",
        "else:\n",
        "    for i in range(2, int(bilangan ** 0.5) + 1):\n",
        "        if (bilangan % i) == 0:\n",
        "            prima = False\n",
        "            break\n",
        "if prima:\n",
        "    print(bilangan, \"adalah bilangan prima\")\n",
        "else:\n",
        "    print(bilangan, \"bukan bilangan prima\")"
      ],
      "metadata": {
        "id": "OQJxBuxcmH5M",
        "outputId": "403fe27d-646f-4b5e-8dcc-c662ca0a3b7f",
        "colab": {
          "base_uri": "https://localhost:8080/"
        }
      },
      "execution_count": 2,
      "outputs": [
        {
          "output_type": "stream",
          "name": "stdout",
          "text": [
            "masukkan sebuah bilangan bulat: 13\n",
            "13 adalah bilangan prima\n"
          ]
        }
      ]
    }
  ]
}