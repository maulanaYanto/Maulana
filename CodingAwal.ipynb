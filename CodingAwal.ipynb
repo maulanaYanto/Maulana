{
  "nbformat": 4,
  "nbformat_minor": 0,
  "metadata": {
    "colab": {
      "provenance": [],
      "authorship_tag": "ABX9TyPiYfFqbL0wh5KpEmFqR9VU",
      "include_colab_link": true
    },
    "kernelspec": {
      "name": "python3",
      "display_name": "Python 3"
    },
    "language_info": {
      "name": "python"
    }
  },
  "cells": [
    {
      "cell_type": "markdown",
      "metadata": {
        "id": "view-in-github",
        "colab_type": "text"
      },
      "source": [
        "<a href=\"https://colab.research.google.com/github/maulanaYanto/Maulana/blob/main/CodingAwal.ipynb\" target=\"_parent\"><img src=\"https://colab.research.google.com/assets/colab-badge.svg\" alt=\"Open In Colab\"/></a>"
      ]
    },
    {
      "cell_type": "code",
      "execution_count": 1,
      "metadata": {
        "colab": {
          "base_uri": "https://localhost:8080/"
        },
        "id": "ZMhyoTKOJYuT",
        "outputId": "6d607534-425a-4f15-d3bb-02360f340f0b"
      },
      "outputs": [
        {
          "output_type": "stream",
          "name": "stdout",
          "text": [
            "Hello, World!\n"
          ]
        }
      ],
      "source": [
        "# Program HelloWorld\n",
        "# Mencetak Hello, World! ke layar\n",
        "\n",
        "# KAMUS\n",
        "# belum diperlukan\n",
        "\n",
        "# ALGORITMA\n",
        "print('Hello, World!')"
      ]
    }
  ]
}