{
  "nbformat": 4,
  "nbformat_minor": 0,
  "metadata": {
    "colab": {
      "provenance": [],
      "name": "jawabanSesuaiKepercayaan.ipynb",
      "authorship_tag": "ABX9TyP5LjjsEIyy0xS0t5pacQ8o",
      "include_colab_link": true
    },
    "kernelspec": {
      "name": "python3",
      "display_name": "Python 3"
    },
    "language_info": {
      "name": "python"
    }
  },
  "cells": [
    {
      "cell_type": "markdown",
      "metadata": {
        "id": "view-in-github",
        "colab_type": "text"
      },
      "source": [
        "<a href=\"https://colab.research.google.com/github/maulanaYanto/Maulana/blob/main/jawabanSesuaiKepercayaan.ipynb\" target=\"_parent\"><img src=\"https://colab.research.google.com/assets/colab-badge.svg\" alt=\"Open In Colab\"/></a>"
      ]
    },
    {
      "cell_type": "code",
      "execution_count": null,
      "metadata": {
        "colab": {
          "base_uri": "https://localhost:8080/"
        },
        "id": "QqSMDxK-SJrr",
        "outputId": "892c8688-2814-44ee-91d4-cd974b3e125c"
      },
      "outputs": [
        {
          "output_type": "stream",
          "name": "stdout",
          "text": [
            "masukkan angka pertama: 1\n",
            "masukkan angka kedua: 5\n",
            "jumlah : 6\n"
          ]
        }
      ],
      "source": [
        "#nomor 1\n",
        "angka1 = int(input(\"masukkan angka pertama: \"))\n",
        "angka2 = int(input(\"masukkan angka kedua: \"))\n",
        "jumlah = angka1+angka2\n",
        "\n",
        "print(\"jumlah :\", jumlah)"
      ]
    },
    {
      "cell_type": "code",
      "source": [
        "jeruk1 =int(input(\"masukkan jumlah jeruk pertama: \"))\n",
        "jeruk2 = int(input(\"masukkan jumlah jeruk kedua: \"))\n",
        "jumlah = jeruk1-jeruk2\n",
        "\n",
        "print(\"jumlah jeruk :\", jumlah)"
      ],
      "metadata": {
        "colab": {
          "base_uri": "https://localhost:8080/"
        },
        "id": "yElg6VY8YAgp",
        "outputId": "6c3cfce3-a14e-493d-9c54-b230fa4a82ec"
      },
      "execution_count": null,
      "outputs": [
        {
          "output_type": "stream",
          "name": "stdout",
          "text": [
            "masukkan jumlah jeruk pertama: 50\n",
            "masukkan jumlah jeruk kedua: 5\n",
            "jumlah jeruk : 45\n"
          ]
        }
      ]
    },
    {
      "cell_type": "code",
      "source": [
        "hewan1 = int(input(\"masukkan jumlah hewan pertama: \"))\n",
        "hewan2 = int(input(\"masukkan jumlah hewan kedua: \"))\n",
        "jumlah = hewan1*hewan2\n",
        "\n",
        "print(\"jumlah hewan :\", jumlah)"
      ],
      "metadata": {
        "colab": {
          "base_uri": "https://localhost:8080/"
        },
        "id": "iUeEvHd5YkJ9",
        "outputId": "505c63c2-da55-4b4b-e33b-0b5e6cc3adef"
      },
      "execution_count": null,
      "outputs": [
        {
          "output_type": "stream",
          "name": "stdout",
          "text": [
            "masukkan jumlah hewan pertama: 3\n",
            "masukkan jumlah hewan kedua: 5\n",
            "jumlah hewan : 15\n"
          ]
        }
      ]
    },
    {
      "cell_type": "code",
      "source": [
        "barang1 = int(input(\"masukkan jumlah barang pertama: \"))\n",
        "barang2 = int(input(\"masukkan jumlah barang kedua: \"))\n",
        "jumlah = barang1//barang2\n",
        "\n",
        "print(\"jumlah barang :\", jumlah)"
      ],
      "metadata": {
        "colab": {
          "base_uri": "https://localhost:8080/"
        },
        "id": "63rQBlxOYxOs",
        "outputId": "524d1992-df2e-4f64-81f5-1aeedd3372cc"
      },
      "execution_count": null,
      "outputs": [
        {
          "output_type": "stream",
          "name": "stdout",
          "text": [
            "masukkan jumlah barang pertama: 10\n",
            "masukkan jumlah barang kedua: 2\n",
            "jumlah barang : 5\n"
          ]
        }
      ]
    },
    {
      "cell_type": "code",
      "source": [
        "#nomor2\n",
        "n = 5\n",
        "for i in range(1, n+1):\n",
        "  for j in range(1, i+1):\n",
        "    print(j, end=\"\")\n",
        "  print()"
      ],
      "metadata": {
        "colab": {
          "base_uri": "https://localhost:8080/"
        },
        "id": "k6D_GlSGZF4e",
        "outputId": "91b55278-700c-4a1d-b0e8-bca771cc449a"
      },
      "execution_count": null,
      "outputs": [
        {
          "output_type": "stream",
          "name": "stdout",
          "text": [
            "1\n",
            "12\n",
            "123\n",
            "1234\n",
            "12345\n"
          ]
        }
      ]
    },
    {
      "cell_type": "code",
      "source": [
        "#nomor 3\n",
        "n = int(input(\"Jumlah mahasiswa: \"))\n",
        "nilai = [int(input(f\"Masukkan nilai mahasiswa ke-{i+1}: \")) for i in range(n)]\n",
        "for v in nilai:\n",
        "    print(v)\n"
      ],
      "metadata": {
        "colab": {
          "base_uri": "https://localhost:8080/"
        },
        "id": "TwxW0uxVcsrA",
        "outputId": "b9d9d9f2-8bab-40c2-b45e-1929d6b283d6"
      },
      "execution_count": null,
      "outputs": [
        {
          "output_type": "stream",
          "name": "stdout",
          "text": [
            "Jumlah mahasiswa: 5\n",
            "Masukkan nilai mahasiswa ke-1: 100\n",
            "Masukkan nilai mahasiswa ke-2: 89\n",
            "Masukkan nilai mahasiswa ke-3: 60\n",
            "Masukkan nilai mahasiswa ke-4: 77\n",
            "Masukkan nilai mahasiswa ke-5: 86\n",
            "100\n",
            "89\n",
            "60\n",
            "77\n",
            "86\n"
          ]
        }
      ]
    },
    {
      "cell_type": "code",
      "source": [
        "rata_rata = sum(nilai) / n\n",
        "print(\"Rata-rata nilai mahasiswa:\", rata_rata)"
      ],
      "metadata": {
        "colab": {
          "base_uri": "https://localhost:8080/"
        },
        "id": "EJmFgHXHgwP-",
        "outputId": "e7d829f8-b998-4b22-aa08-dab98b45fabe"
      },
      "execution_count": null,
      "outputs": [
        {
          "output_type": "stream",
          "name": "stdout",
          "text": [
            "Rata-rata nilai mahasiswa: 82.4\n"
          ]
        }
      ]
    },
    {
      "cell_type": "code",
      "source": [
        "nilai_tertinggi = max(nilai)\n",
        "nilai_terendah = min(nilai)\n",
        "print(\"Nilai tertinggi: \" + str(nilai_tertinggi))\n",
        "print(\"Nilai terendah: \" + str(nilai_terendah))"
      ],
      "metadata": {
        "colab": {
          "base_uri": "https://localhost:8080/"
        },
        "id": "ZSJ09uw6hlZP",
        "outputId": "6d16e1d9-10ee-408f-e138-18d3344b4b10"
      },
      "execution_count": null,
      "outputs": [
        {
          "output_type": "stream",
          "name": "stdout",
          "text": [
            "Nilai tertinggi: 100\n",
            "Nilai terendah: 60\n"
          ]
        }
      ]
    },
    {
      "cell_type": "code",
      "source": [
        "#nomor5\n",
        "MatCoba1 = [[6,9],\n",
        "            [5,7]]\n",
        "\n",
        "MatCoba2 = [[7,1],\n",
        "            [3,2]]\n",
        "\n",
        "print(\"MatCoba1  MatCoba2 \")\n",
        "\n",
        "for j in range(len(MatCoba1)):\n",
        "    for i in range(len(MatCoba1[j])):\n",
        "        print(MatCoba1[j][i], end=\" \")\n",
        "    print(\"  \", end=\"\")\n",
        "    for i in range(len(MatCoba2[j])):\n",
        "        print(MatCoba2[j][i], end=\" \")\n",
        "    print()"
      ],
      "metadata": {
        "id": "loFdT_iTkFAD",
        "colab": {
          "base_uri": "https://localhost:8080/"
        },
        "outputId": "fd541c15-b092-4ad2-aa04-2deb9e9180de"
      },
      "execution_count": null,
      "outputs": [
        {
          "output_type": "stream",
          "name": "stdout",
          "text": [
            "MatCoba1  MatCoba2 \n",
            "6 9   7 1 \n",
            "5 7   3 2 \n"
          ]
        }
      ]
    },
    {
      "cell_type": "code",
      "source": [
        "hasil = [[MatCoba1[j][i] + MatCoba2[j][i] for i in range(len(MatCoba1[j]))] for j in range(len(MatCoba1))]\n",
        "# Menampilkan hasil penjumlahan\n",
        "print(\"Hasil penjumlahan:\")\n",
        "for baris in hasil:\n",
        "    print(\" \".join(map(str, baris)))"
      ],
      "metadata": {
        "colab": {
          "base_uri": "https://localhost:8080/"
        },
        "id": "AoznTsKtNjUH",
        "outputId": "1e0589c8-2391-4dce-c5b8-31d844eb0abf"
      },
      "execution_count": null,
      "outputs": [
        {
          "output_type": "stream",
          "name": "stdout",
          "text": [
            "Hasil penjumlahan:\n",
            "13 10\n",
            "8 9\n"
          ]
        }
      ]
    },
    {
      "cell_type": "code",
      "source": [
        "x = MatCoba1 [0][1] + MatCoba2 [1][0]\n",
        "print(x)"
      ],
      "metadata": {
        "colab": {
          "base_uri": "https://localhost:8080/"
        },
        "id": "AJFnOyVyPQjG",
        "outputId": "be2cbfa8-97ce-4697-8b71-fd70da0f813d"
      },
      "execution_count": null,
      "outputs": [
        {
          "output_type": "stream",
          "name": "stdout",
          "text": [
            "12\n"
          ]
        }
      ]
    },
    {
      "cell_type": "code",
      "source": [
        "#nomor 6\n",
        "def hitung_gaji_bersih(gaji_pokok):\n",
        "  tunjangan = 0.10 * gaji_pokok\n",
        "  potongan = 0.05 * gaji_pokok\n",
        "  gaji_bersih = gaji_pokok + tunjangan - potongan\n",
        "  return int(gaji_bersih)\n",
        "\n",
        "gaji_pokok = int(input(\"Masukkan gaji pokok: \"))\n",
        "gaji_bersih = hitung_gaji_bersih(gaji_pokok)\n",
        "print(\"Gaji bersih Anda adalah:\", gaji_bersih)"
      ],
      "metadata": {
        "colab": {
          "base_uri": "https://localhost:8080/"
        },
        "id": "sSORjrSMSXSI",
        "outputId": "7edc78ad-fedb-4546-b839-cecc6a1e6ccb"
      },
      "execution_count": null,
      "outputs": [
        {
          "output_type": "stream",
          "name": "stdout",
          "text": [
            "Masukkan gaji pokok: 600\n",
            "Gaji bersih Anda adalah: 630\n"
          ]
        }
      ]
    }
  ]
}